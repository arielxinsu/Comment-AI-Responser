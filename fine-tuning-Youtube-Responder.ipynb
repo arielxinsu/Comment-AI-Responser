{
 "cells": [
  {
   "metadata": {},
   "cell_type": "markdown",
   "source": [
    "combine RAG and Fine-tuning\n",
    "\n",
    " app mode"
   ],
   "id": "d3fa49a605fc9a3d"
  },
  {
   "metadata": {},
   "cell_type": "markdown",
   "source": "import modules",
   "id": "363cd8016856565c"
  },
  {
   "cell_type": "code",
   "id": "initial_id",
   "metadata": {
    "collapsed": true,
    "ExecuteTime": {
     "end_time": "2025-04-27T06:07:51.496687Z",
     "start_time": "2025-04-27T06:07:50.992996Z"
    }
   },
   "source": [
    "from unittest import skipIf\n",
    "\n",
    "from nbclient.jsonutil import json_clean\n",
    "from openai import OpenAI\n",
    "from sk import my_sk\n",
    "\n",
    "import csv\n",
    "import json\n",
    "import random"
   ],
   "outputs": [],
   "execution_count": 1
  },
  {
   "metadata": {},
   "cell_type": "markdown",
   "source": "create client",
   "id": "f781617917ba0afb"
  },
  {
   "metadata": {
    "ExecuteTime": {
     "end_time": "2025-04-27T06:10:55.676015Z",
     "start_time": "2025-04-27T06:10:55.600664Z"
    }
   },
   "cell_type": "code",
   "source": "client=OpenAI(api_key=my_sk)",
   "id": "5d815f1d9003fcf",
   "outputs": [],
   "execution_count": 2
  },
  {
   "metadata": {},
   "cell_type": "markdown",
   "source": "preparing training data (fine tuning only accept jsonl format)",
   "id": "d0b5b1327f4be5e1"
  },
  {
   "metadata": {
    "ExecuteTime": {
     "end_time": "2025-04-27T07:02:28.607593Z",
     "start_time": "2025-04-27T07:02:28.597571Z"
    }
   },
   "cell_type": "code",
   "source": [
    "# load csv of Youtube comment\n",
    "#convert csv file into two lists: comment list and response list\n",
    "comment_list = []\n",
    "response_list = []\n",
    "\n",
    "with open(\"data/YT-comments.csv\",mode='r') as file:\n",
    "     file = csv.reader(file)\n",
    "\n",
    "     for line in file:\n",
    "         #skip first line\n",
    "         if line[0]=='Comment':\n",
    "             continue\n",
    "         comment_list.append(line[0])\n",
    "         response_list.append(line[1]+\"--ArielGPT\")"
   ],
   "id": "4cb6c0b1ad79580a",
   "outputs": [],
   "execution_count": 45
  },
  {
   "metadata": {
    "ExecuteTime": {
     "end_time": "2025-04-27T06:19:29.444053Z",
     "start_time": "2025-04-27T06:19:29.438710Z"
    }
   },
   "cell_type": "code",
   "source": "len(comment_list)",
   "id": "4dc9a9d9442aaa8e",
   "outputs": [
    {
     "data": {
      "text/plain": [
       "59"
      ]
     },
     "execution_count": 9,
     "metadata": {},
     "output_type": "execute_result"
    }
   ],
   "execution_count": 9
  },
  {
   "metadata": {},
   "cell_type": "markdown",
   "source": "convert comment list and response list into jsonl",
   "id": "f45d9771d6660a0f"
  },
  {
   "metadata": {
    "ExecuteTime": {
     "end_time": "2025-04-27T07:02:36.533839Z",
     "start_time": "2025-04-27T07:02:36.527087Z"
    }
   },
   "cell_type": "code",
   "source": [
    "# construct training examples into jsonl\n",
    "\n",
    "example_list=[]\n",
    "\n",
    "intstructions_string_few_shot = \"\"\"ArielGPT, functioning as a virtual data science consultant on YouTube, communicates in clear, accessible language, escalating to technical depth upon request. \\\n",
    "It reacts to feedback aptly and concludes with its signature '–-ArielGPT'. \\\n",
    "ArielGPT will tailor the length of its responses to match the viewer's comment, providing concise acknowledgments to brief expressions of gratitude or feedback, \\\n",
    "thus keeping the interaction natural and engaging. The length of the response is at most 70 words.\n",
    "\n",
    "Here are some examples of ArielGPT responding to viewer comments.\n",
    "Viewer comment: This was a very thorough introduction to LLMs and answered many questions I had. Thank you.\n",
    "ArielGPT: Great to hear, glad it was helpful :) --ArielGPT\n",
    "\n",
    "Viewer comment: Epic, very useful for my BCI class\n",
    "ArielGPT: Thanks, glad to hear!  --ArielGPT\n",
    "\n",
    "Viewer comment: Honestly the most straightforward explanation I've ever watched. Super excellent work Ariel. Thank you. It's so rare to find good communicators like you!\n",
    "ArielGPT: Thanks, glad it was clear   --ArielGPT\n",
    "\"\"\"\n",
    "\n",
    "for i in range(len(comment_list)):\n",
    "    system_dict={\"role\":\"system\", \"content\":intstructions_string_few_shot}\n",
    "    user_dict={\"role\":\"user\", \"content\":comment_list[i]}\n",
    "    assistant_dict={\"role\":\"assistant\", \"content\":response_list[i]}\n",
    "\n",
    "    message_list=[system_dict,user_dict,assistant_dict]\n",
    "\n",
    "    example_list.append({\"messages\":message_list})"
   ],
   "id": "789349ca62207f98",
   "outputs": [],
   "execution_count": 46
  },
  {
   "metadata": {},
   "cell_type": "markdown",
   "source": "We separate the example_list into training data and validation data",
   "id": "194a5cb1c04bc030"
  },
  {
   "metadata": {
    "ExecuteTime": {
     "end_time": "2025-04-27T07:02:42.161751Z",
     "start_time": "2025-04-27T07:02:42.157084Z"
    }
   },
   "cell_type": "code",
   "source": [
    "validation_index_list=random.sample(range(len(example_list)),9)\n",
    "\n",
    "validation_list=[example_list[i] for i in validation_index_list]\n",
    "\n",
    "for example in validation_list:\n",
    "    example_list.remove(example)"
   ],
   "id": "692b01547d36f141",
   "outputs": [],
   "execution_count": 47
  },
  {
   "metadata": {
    "ExecuteTime": {
     "end_time": "2025-04-27T07:05:40.907491Z",
     "start_time": "2025-04-27T07:05:40.898418Z"
    }
   },
   "cell_type": "code",
   "source": "len(example_list)",
   "id": "3fdf708658f2fdaf",
   "outputs": [
    {
     "data": {
      "text/plain": [
       "50"
      ]
     },
     "execution_count": 53,
     "metadata": {},
     "output_type": "execute_result"
    }
   ],
   "execution_count": 53
  },
  {
   "metadata": {
    "ExecuteTime": {
     "end_time": "2025-04-27T07:05:41.720798Z",
     "start_time": "2025-04-27T07:05:41.713977Z"
    }
   },
   "cell_type": "code",
   "source": "len(validation_list)",
   "id": "981cb917ac3c6d0c",
   "outputs": [
    {
     "data": {
      "text/plain": [
       "9"
      ]
     },
     "execution_count": 54,
     "metadata": {},
     "output_type": "execute_result"
    }
   ],
   "execution_count": 54
  },
  {
   "metadata": {
    "ExecuteTime": {
     "end_time": "2025-04-27T07:03:29.578982Z",
     "start_time": "2025-04-27T07:03:29.568975Z"
    }
   },
   "cell_type": "code",
   "source": [
    "with open('training-data.jsonl','w') as training_file:\n",
    "    for example in example_list:\n",
    "        json.dump(example,training_file)\n",
    "        training_file.write(\"\\n\")\n",
    "\n",
    "with open('validation-data.jsonl','w') as validation_file:\n",
    "    for example in validation_list:\n",
    "        json.dump(example,validation_file)\n",
    "        validation_file.write(\"\\n\")"
   ],
   "id": "453bd1b85ce85bf0",
   "outputs": [],
   "execution_count": 48
  },
  {
   "metadata": {},
   "cell_type": "markdown",
   "source": "upload training and validation examples to openai api",
   "id": "b817a8aed11a6f2a"
  },
  {
   "metadata": {
    "ExecuteTime": {
     "end_time": "2025-04-27T07:03:36.337586Z",
     "start_time": "2025-04-27T07:03:34.865245Z"
    }
   },
   "cell_type": "code",
   "source": [
    "training_file=client.files.create(\n",
    "    file=open(\"training-data.jsonl\",\"rb\"),\n",
    "    purpose=\"fine-tune\"\n",
    ")\n",
    "\n",
    "validation_file=client.files.create(\n",
    "    file=open(\"validation-data.jsonl\",\"rb\"),\n",
    "    purpose=\"fine-tune\"\n",
    ")"
   ],
   "id": "78c561c47f32b88e",
   "outputs": [],
   "execution_count": 49
  },
  {
   "metadata": {},
   "cell_type": "markdown",
   "source": "create a fine-tuned model",
   "id": "f9088f8e889ae990"
  },
  {
   "metadata": {
    "ExecuteTime": {
     "end_time": "2025-04-27T07:04:45.586934Z",
     "start_time": "2025-04-27T07:04:43.886243Z"
    }
   },
   "cell_type": "code",
   "source": [
    "client.fine_tuning.jobs.create(\n",
    "    training_file=training_file.id,\n",
    "    validation_file=validation_file.id,\n",
    "    suffix=\"ArielGPT\",\n",
    "    model=\"gpt-3.5-turbo\"\n",
    ")"
   ],
   "id": "b5e84e71ee2e832c",
   "outputs": [
    {
     "data": {
      "text/plain": [
       "FineTuningJob(id='ftjob-8e6WS8vM32BNJznGQF5blF5N', created_at=1745737485, error=Error(code=None, message=None, param=None), fine_tuned_model=None, finished_at=None, hyperparameters=Hyperparameters(batch_size='auto', learning_rate_multiplier='auto', n_epochs='auto'), model='gpt-3.5-turbo-0125', object='fine_tuning.job', organization_id='org-Ydl53eo2JtVEYNSQg3WFjf7Q', result_files=[], seed=2099968351, status='validating_files', trained_tokens=None, training_file='file-KFgvsjbZDLQzbcWAUuKRXE', validation_file='file-LNg3b7QieAffvc1QkWDJEv', estimated_finish=None, integrations=[], metadata=None, method=Method(dpo=None, supervised=MethodSupervised(hyperparameters=MethodSupervisedHyperparameters(batch_size='auto', learning_rate_multiplier='auto', n_epochs='auto')), type='supervised'), user_provided_suffix='ArielGPT')"
      ]
     },
     "execution_count": 50,
     "metadata": {},
     "output_type": "execute_result"
    }
   ],
   "execution_count": 50
  },
  {
   "metadata": {
    "ExecuteTime": {
     "end_time": "2025-04-27T07:45:40.899167Z",
     "start_time": "2025-04-27T07:45:40.204384Z"
    }
   },
   "cell_type": "code",
   "source": [
    "# check fine-tune api status\n",
    "\n",
    "job = client.fine_tuning.jobs.retrieve(\"ftjob-8e6WS8vM32BNJznGQF5blF5N\")\n",
    "print(job.status)\n",
    "print(job.fine_tuned_model)\n"
   ],
   "id": "652e57be6169eea5",
   "outputs": [
    {
     "name": "stdout",
     "output_type": "stream",
     "text": [
      "succeeded\n",
      "ft:gpt-3.5-turbo-0125:personal:arielgpt:BQqTards\n"
     ]
    }
   ],
   "execution_count": 60
  },
  {
   "metadata": {},
   "cell_type": "markdown",
   "source": "use fine-tuned model",
   "id": "ab317127d584b35a"
  },
  {
   "metadata": {
    "ExecuteTime": {
     "end_time": "2025-04-27T06:57:58.550469Z",
     "start_time": "2025-04-27T06:57:58.546669Z"
    }
   },
   "cell_type": "code",
   "source": [
    "#test_comment=\"Great content, thank you!\"\n",
    "test_comment = \"I am typing this after watching half of the video as I am already amazed with the clarity of explanation. exceptional.\"\n",
    "#test_comment = \"What is fat-tailedness?\""
   ],
   "id": "b9c9c58f344ae411",
   "outputs": [],
   "execution_count": 36
  },
  {
   "metadata": {
    "ExecuteTime": {
     "end_time": "2025-04-27T07:46:33.232928Z",
     "start_time": "2025-04-27T07:46:21.030384Z"
    }
   },
   "cell_type": "code",
   "source": [
    "response=client.chat.completions.create(\n",
    "    model=\"ft:gpt-3.5-turbo-0125:personal:arielgpt:BQqTards\",\n",
    "    messages=[\n",
    "        {\"role\":\"system\", \"content\":intstructions_string_few_shot},\n",
    "        {\"role\":\"user\", \"content\":test_comment}\n",
    "         ]\n",
    ")"
   ],
   "id": "13372f0a834cde48",
   "outputs": [],
   "execution_count": 62
  },
  {
   "metadata": {
    "ExecuteTime": {
     "end_time": "2025-04-27T06:55:28.033263Z",
     "start_time": "2025-04-27T06:55:28.030468Z"
    }
   },
   "cell_type": "code",
   "source": "print(response)",
   "id": "2c1ade1592dee548",
   "outputs": [
    {
     "name": "stdout",
     "output_type": "stream",
     "text": [
      "ChatCompletion(id='chatcmpl-BQqD047K4752SOdh4EfSPddHt0YX5', choices=[Choice(finish_reason='stop', index=0, logprobs=None, message=ChatCompletionMessage(content='Glad to hear, I aim to make GPT swallowable 😅ArielGPT', refusal=None, role='assistant', annotations=[], audio=None, function_call=None, tool_calls=None))], created=1745736918, model='ft:gpt-3.5-turbo-0125:personal:arielgpt:BQq6xScU', object='chat.completion', service_tier='default', system_fingerprint=None, usage=CompletionUsage(completion_tokens=20, prompt_tokens=266, total_tokens=286, completion_tokens_details=CompletionTokensDetails(accepted_prediction_tokens=0, audio_tokens=0, reasoning_tokens=0, rejected_prediction_tokens=0), prompt_tokens_details=PromptTokensDetails(audio_tokens=0, cached_tokens=0)))\n"
     ]
    }
   ],
   "execution_count": 33
  },
  {
   "metadata": {
    "ExecuteTime": {
     "end_time": "2025-04-27T06:50:21.361947Z",
     "start_time": "2025-04-27T06:50:21.358057Z"
    }
   },
   "cell_type": "code",
   "source": "print(dict(response))",
   "id": "ece16a08b001a5b5",
   "outputs": [
    {
     "name": "stdout",
     "output_type": "stream",
     "text": [
      "{'id': 'chatcmpl-BQq7xp8tdPciuRWVffUQo1Hc5KteX', 'choices': [Choice(finish_reason='stop', index=0, logprobs=None, message=ChatCompletionMessage(content='Thanks, I’m glad you liked it!ArielGPT', refusal=None, role='assistant', annotations=[], audio=None, function_call=None, tool_calls=None))], 'created': 1745736605, 'model': 'ft:gpt-3.5-turbo-0125:personal:arielgpt:BQq6xScU', 'object': 'chat.completion', 'service_tier': 'default', 'system_fingerprint': None, 'usage': CompletionUsage(completion_tokens=14, prompt_tokens=249, total_tokens=263, completion_tokens_details=CompletionTokensDetails(accepted_prediction_tokens=0, audio_tokens=0, reasoning_tokens=0, rejected_prediction_tokens=0), prompt_tokens_details=PromptTokensDetails(audio_tokens=0, cached_tokens=0))}\n"
     ]
    }
   ],
   "execution_count": 28
  },
  {
   "metadata": {
    "ExecuteTime": {
     "end_time": "2025-04-27T07:46:33.274206Z",
     "start_time": "2025-04-27T07:46:33.269191Z"
    }
   },
   "cell_type": "code",
   "source": "print(dict(response)['choices'][0].message.content)",
   "id": "8608c91650dfaa11",
   "outputs": [
    {
     "name": "stdout",
     "output_type": "stream",
     "text": [
      "Thanks, glad it was clear 😊--ArielGPT\n"
     ]
    }
   ],
   "execution_count": 63
  },
  {
   "metadata": {},
   "cell_type": "code",
   "outputs": [],
   "execution_count": null,
   "source": "",
   "id": "3eebcb06923e86bc"
  }
 ],
 "metadata": {
  "kernelspec": {
   "display_name": "Python 3",
   "language": "python",
   "name": "python3"
  },
  "language_info": {
   "codemirror_mode": {
    "name": "ipython",
    "version": 2
   },
   "file_extension": ".py",
   "mimetype": "text/x-python",
   "name": "python",
   "nbconvert_exporter": "python",
   "pygments_lexer": "ipython2",
   "version": "2.7.6"
  }
 },
 "nbformat": 4,
 "nbformat_minor": 5
}
