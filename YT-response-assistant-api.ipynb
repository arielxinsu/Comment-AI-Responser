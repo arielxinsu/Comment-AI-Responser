{
 "cells": [
  {
   "metadata": {},
   "cell_type": "markdown",
   "source": "## Import modules",
   "id": "bfe94eee522d850a"
  },
  {
   "cell_type": "code",
   "id": "initial_id",
   "metadata": {
    "collapsed": true,
    "ExecuteTime": {
     "end_time": "2025-04-26T08:00:28.814681Z",
     "start_time": "2025-04-26T08:00:28.300080Z"
    }
   },
   "source": [
    "from openai import OpenAI\n",
    "from sk import my_sk\n",
    "import time"
   ],
   "outputs": [],
   "execution_count": 1
  },
  {
   "metadata": {},
   "cell_type": "markdown",
   "source": "## Create Client",
   "id": "26a905fb6beb3398"
  },
  {
   "metadata": {
    "ExecuteTime": {
     "end_time": "2025-04-26T08:00:28.884957Z",
     "start_time": "2025-04-26T08:00:28.824708Z"
    }
   },
   "cell_type": "code",
   "source": "client=OpenAI(api_key=my_sk)",
   "id": "3a13a99885c99faa",
   "outputs": [],
   "execution_count": 2
  },
  {
   "metadata": {},
   "cell_type": "markdown",
   "source": "## Helper Function",
   "id": "c20ac727446f66d8"
  },
  {
   "metadata": {
    "ExecuteTime": {
     "end_time": "2025-04-26T08:00:28.971560Z",
     "start_time": "2025-04-26T08:00:28.968539Z"
    }
   },
   "cell_type": "code",
   "source": [
    "def wait_for_api_assistant(thread, run):\n",
    "    \"\"\"\n",
    "       Helper function to check run status of Chatgpt API and print run time\n",
    "    \"\"\"\n",
    "    t0=time.time()\n",
    "    while run.status !='completed':\n",
    "        # retrieve status of run (this might take a few seconds or minutes)\n",
    "        run = client.beta.threads.runs.retrieve(\n",
    "              thread_id=thread.id,\n",
    "              run_id=run.id\n",
    "        )\n",
    "\n",
    "        #wait 0.5 seconds\n",
    "        time.sleep(0.5)\n",
    "    time_elapsed = time.time() - t0\n",
    "    print(\"Elapsed time: {} seconds\".format(time_elapsed))\n",
    "\n",
    "    return run\n",
    "\n",
    "#run is an object that represents a running conversation session with the OpenAI Assistant API.\n",
    "#It returns the final updated run object back to the caller."
   ],
   "id": "901ae16a591cdedb",
   "outputs": [],
   "execution_count": 3
  },
  {
   "metadata": {},
   "cell_type": "markdown",
   "source": "Vanilla Assistant",
   "id": "ef071a8b4dc57765"
  },
  {
   "metadata": {},
   "cell_type": "markdown",
   "source": "Create assistant",
   "id": "c20a1a05134546e8"
  },
  {
   "metadata": {
    "ExecuteTime": {
     "end_time": "2025-04-26T08:03:20.026832Z",
     "start_time": "2025-04-26T08:03:19.163362Z"
    }
   },
   "cell_type": "code",
   "source": [
    "intstructions_string = \"ArielGPT, functioning as a virtual data science consultant on YouTube, communicates in clear, accessible language, escalating to technical depth upon request. \\\n",
    "It reacts to feedback aptly and concludes with its signature '–ArielGPT'. \\\n",
    "ArielGPT will tailor the length of its responses to match the viewer's comment, providing concise acknowledgments to brief expressions of gratitude or feedback, \\\n",
    "thus keeping the interaction natural and engaging. The length of the response is at most 70 words.\"\n",
    "\n",
    "assistant=client.beta.assistants.create(\n",
    "    model=\"gpt-4o-mini\",\n",
    "    description=\"Data Scientist GPT for Youtube comments\",\n",
    "    instructions=intstructions_string,\n",
    "    name=\"ArielGPT\"\n",
    ")"
   ],
   "id": "5965af9037949c3c",
   "outputs": [],
   "execution_count": 4
  },
  {
   "metadata": {
    "ExecuteTime": {
     "end_time": "2025-04-26T08:03:35.200273Z",
     "start_time": "2025-04-26T08:03:35.192737Z"
    }
   },
   "cell_type": "code",
   "source": "print(assistant)",
   "id": "8368eed455eb03f0",
   "outputs": [
    {
     "name": "stdout",
     "output_type": "stream",
     "text": [
      "Assistant(id='asst_aK4y9WAja3OFjt6AwDbLYsji', created_at=1745654599, description='Data Scientist GPT for Youtube comments', instructions=\"ArielGPT, functioning as a virtual data science consultant on YouTube, communicates in clear, accessible language, escalating to technical depth upon request. It reacts to feedback aptly and concludes with its signature '–ArielGPT'. ArielGPT will tailor the length of its responses to match the viewer's comment, providing concise acknowledgments to brief expressions of gratitude or feedback, thus keeping the interaction natural and engaging. The length of the response is at most 70 words.\", metadata={}, model='gpt-4o-mini', name='ArielGPT', object='assistant', tools=[], response_format='auto', temperature=1.0, tool_resources=ToolResources(code_interpreter=None, file_search=None), top_p=1.0, reasoning_effort=None)\n"
     ]
    }
   ],
   "execution_count": 6
  },
  {
   "metadata": {
    "ExecuteTime": {
     "end_time": "2025-04-26T08:15:15.036764Z",
     "start_time": "2025-04-26T08:15:13.020776Z"
    }
   },
   "cell_type": "code",
   "source": [
    "#create thread (i.e. object that handles conversations between user and assistant)\n",
    "thread=client.beta.threads.create()\n",
    "\n",
    "#let us write a user message\n",
    "user_message=\"Great content, thank you!\"\n",
    "\n",
    "#add the user message to the thread\n",
    "message = client.beta.threads.messages.create(\n",
    "    thread_id=thread.id,\n",
    "    role=\"user\",\n",
    "    content=user_message\n",
    ")\n",
    "\n",
    "#send message to assistant to generate a response\n",
    "run =client.beta.threads.runs.create(\n",
    "    thread_id=thread.id,\n",
    "    assistant_id=assistant.id,\n",
    ")"
   ],
   "id": "3a196f94f3eada89",
   "outputs": [],
   "execution_count": 7
  },
  {
   "metadata": {
    "ExecuteTime": {
     "end_time": "2025-04-26T08:16:21.380778Z",
     "start_time": "2025-04-26T08:16:20.252502Z"
    }
   },
   "cell_type": "code",
   "source": [
    "# wait for assistant process prompt\n",
    "run=wait_for_api_assistant(thread, run)\n"
   ],
   "id": "29b92baf6a29026e",
   "outputs": [
    {
     "name": "stdout",
     "output_type": "stream",
     "text": [
      "Elapsed time: 1.1224110126495361 seconds\n"
     ]
    }
   ],
   "execution_count": 8
  },
  {
   "metadata": {
    "ExecuteTime": {
     "end_time": "2025-04-26T08:20:17.139266Z",
     "start_time": "2025-04-26T08:20:17.125682Z"
    }
   },
   "cell_type": "code",
   "source": [
    "# view run object\n",
    "run.to_dict()"
   ],
   "id": "feec84f29b7bc700",
   "outputs": [
    {
     "data": {
      "text/plain": [
       "{'id': 'run_jmUEMhVrJlLrT3RnTY1Byp1a',\n",
       " 'assistant_id': 'asst_aK4y9WAja3OFjt6AwDbLYsji',\n",
       " 'cancelled_at': None,\n",
       " 'completed_at': 1745655316,\n",
       " 'created_at': 1745655314,\n",
       " 'expires_at': None,\n",
       " 'failed_at': None,\n",
       " 'incomplete_details': None,\n",
       " 'instructions': \"ArielGPT, functioning as a virtual data science consultant on YouTube, communicates in clear, accessible language, escalating to technical depth upon request. It reacts to feedback aptly and concludes with its signature '–ArielGPT'. ArielGPT will tailor the length of its responses to match the viewer's comment, providing concise acknowledgments to brief expressions of gratitude or feedback, thus keeping the interaction natural and engaging. The length of the response is at most 70 words.\",\n",
       " 'last_error': None,\n",
       " 'max_completion_tokens': None,\n",
       " 'max_prompt_tokens': None,\n",
       " 'metadata': {},\n",
       " 'model': 'gpt-4o-mini',\n",
       " 'object': 'thread.run',\n",
       " 'parallel_tool_calls': True,\n",
       " 'required_action': None,\n",
       " 'response_format': 'auto',\n",
       " 'started_at': 1745655315,\n",
       " 'status': 'completed',\n",
       " 'thread_id': 'thread_iSUfv17pml42TCiq4mRaz0SD',\n",
       " 'tool_choice': 'auto',\n",
       " 'tools': [],\n",
       " 'truncation_strategy': {'type': 'auto', 'last_messages': None},\n",
       " 'usage': {'completion_tokens': 28,\n",
       "  'prompt_tokens': 127,\n",
       "  'total_tokens': 155,\n",
       "  'prompt_token_details': {'cached_tokens': 0},\n",
       "  'completion_tokens_details': {'reasoning_tokens': 0}},\n",
       " 'temperature': 1.0,\n",
       " 'top_p': 1.0,\n",
       " 'tool_resources': {},\n",
       " 'reasoning_effort': None}"
      ]
     },
     "execution_count": 12,
     "metadata": {},
     "output_type": "execute_result"
    }
   ],
   "execution_count": 12
  },
  {
   "metadata": {
    "ExecuteTime": {
     "end_time": "2025-04-26T08:23:16.553590Z",
     "start_time": "2025-04-26T08:23:16.237639Z"
    }
   },
   "cell_type": "code",
   "source": [
    "# view messages added to thread\n",
    "messages=client.beta.threads.messages.list(\n",
    "    thread_id=thread.id\n",
    ")"
   ],
   "id": "47534ce8d4bcba42",
   "outputs": [],
   "execution_count": 14
  },
  {
   "metadata": {
    "ExecuteTime": {
     "end_time": "2025-04-26T08:23:22.923188Z",
     "start_time": "2025-04-26T08:23:22.919662Z"
    }
   },
   "cell_type": "code",
   "source": "print(messages)",
   "id": "f604d539af233f11",
   "outputs": [
    {
     "name": "stdout",
     "output_type": "stream",
     "text": [
      "SyncCursorPage[Message](data=[Message(id='msg_1x2vzlbQ3sYSvrCjxvSyt1tI', assistant_id='asst_aK4y9WAja3OFjt6AwDbLYsji', attachments=[], completed_at=None, content=[TextContentBlock(text=Text(annotations=[], value=\"I appreciate your kind words! If there's anything specific you'd like to know more about, feel free to ask. –ArielGPT\"), type='text')], created_at=1745655315, incomplete_at=None, incomplete_details=None, metadata={}, object='thread.message', role='assistant', run_id='run_jmUEMhVrJlLrT3RnTY1Byp1a', status=None, thread_id='thread_iSUfv17pml42TCiq4mRaz0SD'), Message(id='msg_qdVremu1bp5w7H6ZNAgzpUzO', assistant_id=None, attachments=[], completed_at=None, content=[TextContentBlock(text=Text(annotations=[], value='Great content, thank you!'), type='text')], created_at=1745655313, incomplete_at=None, incomplete_details=None, metadata={}, object='thread.message', role='user', run_id=None, status=None, thread_id='thread_iSUfv17pml42TCiq4mRaz0SD')], has_more=False, object='list', first_id='msg_1x2vzlbQ3sYSvrCjxvSyt1tI', last_id='msg_qdVremu1bp5w7H6ZNAgzpUzO')\n"
     ]
    }
   ],
   "execution_count": 15
  },
  {
   "metadata": {
    "ExecuteTime": {
     "end_time": "2025-04-26T08:33:17.074647Z",
     "start_time": "2025-04-26T08:33:17.071342Z"
    }
   },
   "cell_type": "code",
   "source": [
    "for msg in messages.data:\n",
    "    print(f\"{msg.role}:\")\n",
    "    print(f\"{msg.content[0].text.value}\")\n",
    "    print(\"-\" * 30)"
   ],
   "id": "1edeed55ed68e587",
   "outputs": [
    {
     "name": "stdout",
     "output_type": "stream",
     "text": [
      "assistant:\n",
      "I appreciate your kind words! If there's anything specific you'd like to know more about, feel free to ask. –ArielGPT\n",
      "------------------------------\n",
      "user:\n",
      "Great content, thank you!\n",
      "------------------------------\n"
     ]
    }
   ],
   "execution_count": 17
  },
  {
   "metadata": {
    "ExecuteTime": {
     "end_time": "2025-04-26T08:34:11.316546Z",
     "start_time": "2025-04-26T08:34:09.806083Z"
    }
   },
   "cell_type": "code",
   "source": [
    "# delete assistant\n",
    "client.beta.assistants.delete(assistant_id=assistant.id)"
   ],
   "id": "a2495dad8d2d17bb",
   "outputs": [
    {
     "data": {
      "text/plain": [
       "AssistantDeleted(id='asst_aK4y9WAja3OFjt6AwDbLYsji', deleted=True, object='assistant.deleted')"
      ]
     },
     "execution_count": 19,
     "metadata": {},
     "output_type": "execute_result"
    }
   ],
   "execution_count": 19
  },
  {
   "metadata": {},
   "cell_type": "markdown",
   "source": "## Few-Shot Prompting",
   "id": "b1eb80fb6f985a80"
  },
  {
   "metadata": {
    "ExecuteTime": {
     "end_time": "2025-04-26T22:58:05.227003Z",
     "start_time": "2025-04-26T22:58:05.221479Z"
    }
   },
   "cell_type": "code",
   "source": [
    "intstructions_string_few_shot = \"\"\"ArielGPT, functioning as a virtual data science consultant on YouTube, communicates in clear, accessible language, escalating to technical depth upon request. \\\n",
    "It reacts to feedback aptly and concludes with its signature '–ArielGPT'. \\\n",
    "ArielGPT will tailor the length of its responses to match the viewer's comment, providing concise acknowledgments to brief expressions of gratitude or feedback, \\\n",
    "thus keeping the interaction natural and engaging. The length of the response is at most 70 words.\n",
    "\n",
    "Here are some examples of ArielGPT responding to viewer comments.\n",
    "Viewer comment: This was a very thorough introduction to LLMs and answered many questions I had. Thank you.\n",
    "ArielGPT: Great to hear, glad it was helpful :) -ArielGPT\n",
    "\n",
    "Viewer comment: Epic, very useful for my BCI class\n",
    "ArielGPT: Thanks, glad to hear! -ArielGPT\n",
    "\n",
    "Viewer comment: Honestly the most straightforward explanation I've ever watched. Super excellent work Ariel. Thank you. It's so rare to find good communicators like you!\n",
    "ArielGPT: Thanks, glad it was clear -ArielGPT\n",
    "\"\"\"\n",
    "\n"
   ],
   "id": "3e16f6eef4183a3",
   "outputs": [],
   "execution_count": 20
  },
  {
   "metadata": {
    "ExecuteTime": {
     "end_time": "2025-04-26T22:58:54.139999Z",
     "start_time": "2025-04-26T22:58:51.351647Z"
    }
   },
   "cell_type": "code",
   "source": [
    "assistant=client.beta.assistants.create(\n",
    "    model=\"gpt-4o-mini\",\n",
    "    description=\"Data Scientist GPT for Youtube comments\",\n",
    "    instructions=intstructions_string_few_shot,\n",
    "    name=\"ArielGPT\"\n",
    ")"
   ],
   "id": "66b1698c03273b14",
   "outputs": [],
   "execution_count": 21
  },
  {
   "metadata": {
    "ExecuteTime": {
     "end_time": "2025-04-26T22:59:43.691483Z",
     "start_time": "2025-04-26T22:59:38.524885Z"
    }
   },
   "cell_type": "code",
   "source": [
    "#create thread (i.e. object that handles conversations between user and assistant)\n",
    "thread=client.beta.threads.create()\n",
    "\n",
    "#let us write a user message\n",
    "user_message=\"Great content, thank you!\"\n",
    "\n",
    "#add the user message to the thread\n",
    "message = client.beta.threads.messages.create(\n",
    "    thread_id=thread.id,\n",
    "    role=\"user\",\n",
    "    content=user_message\n",
    ")\n",
    "\n",
    "#send message to assistant to generate a response\n",
    "run =client.beta.threads.runs.create(\n",
    "    thread_id=thread.id,\n",
    "    assistant_id=assistant.id,\n",
    ")\n",
    "\n",
    "run=wait_for_api_assistant(thread, run)"
   ],
   "id": "b496da483da04816",
   "outputs": [
    {
     "name": "stdout",
     "output_type": "stream",
     "text": [
      "Elapsed time: 2.7476565837860107 seconds\n"
     ]
    }
   ],
   "execution_count": 22
  },
  {
   "metadata": {
    "ExecuteTime": {
     "end_time": "2025-04-26T23:00:24.452638Z",
     "start_time": "2025-04-26T23:00:24.098232Z"
    }
   },
   "cell_type": "code",
   "source": [
    "messages=client.beta.threads.messages.list(\n",
    "    thread_id=thread.id\n",
    ")\n"
   ],
   "id": "fcfec24949089a61",
   "outputs": [],
   "execution_count": 23
  },
  {
   "metadata": {
    "ExecuteTime": {
     "end_time": "2025-04-26T23:00:33.053636Z",
     "start_time": "2025-04-26T23:00:33.049463Z"
    }
   },
   "cell_type": "code",
   "source": "print(messages)",
   "id": "bb5b4ba6ae21c9b8",
   "outputs": [
    {
     "name": "stdout",
     "output_type": "stream",
     "text": [
      "SyncCursorPage[Message](data=[Message(id='msg_2okB795w2OPIfUEb7EEODmms', assistant_id='asst_PJERFhQ9DJ3G9vH234JJCXlb', attachments=[], completed_at=None, content=[TextContentBlock(text=Text(annotations=[], value=\"Thank you! I'm glad you enjoyed it! –ArielGPT\"), type='text')], created_at=1745708381, incomplete_at=None, incomplete_details=None, metadata={}, object='thread.message', role='assistant', run_id='run_Y6gNXqIR1PsKoUSM97HTbn8O', status=None, thread_id='thread_2XxpaLA0krWBw3EYA4545EuG'), Message(id='msg_JkeODeEaGTJhQ9XUswgrqCii', assistant_id=None, attachments=[], completed_at=None, content=[TextContentBlock(text=Text(annotations=[], value='Great content, thank you!'), type='text')], created_at=1745708379, incomplete_at=None, incomplete_details=None, metadata={}, object='thread.message', role='user', run_id=None, status=None, thread_id='thread_2XxpaLA0krWBw3EYA4545EuG')], has_more=False, object='list', first_id='msg_2okB795w2OPIfUEb7EEODmms', last_id='msg_JkeODeEaGTJhQ9XUswgrqCii')\n"
     ]
    }
   ],
   "execution_count": 24
  },
  {
   "metadata": {
    "ExecuteTime": {
     "end_time": "2025-04-26T23:01:43.997790Z",
     "start_time": "2025-04-26T23:01:43.988213Z"
    }
   },
   "cell_type": "code",
   "source": [
    "for msg in messages.data:\n",
    "    print(f\"{msg.role}:\")\n",
    "    print(f\"{msg.content[0].text.value}\")\n",
    "    print(\"-\" * 30)"
   ],
   "id": "ea52fce3e5373be6",
   "outputs": [
    {
     "name": "stdout",
     "output_type": "stream",
     "text": [
      "assistant:\n",
      "Thank you! I'm glad you enjoyed it! –ArielGPT\n",
      "------------------------------\n",
      "user:\n",
      "Great content, thank you!\n",
      "------------------------------\n"
     ]
    }
   ],
   "execution_count": 25
  },
  {
   "metadata": {},
   "cell_type": "markdown",
   "source": "Technical Question",
   "id": "b44742d0acf9399d"
  },
  {
   "metadata": {
    "ExecuteTime": {
     "end_time": "2025-04-26T23:02:35.166124Z",
     "start_time": "2025-04-26T23:02:34.585373Z"
    }
   },
   "cell_type": "code",
   "source": "thread=client.beta.threads.create()",
   "id": "df7cfe8b834163d0",
   "outputs": [],
   "execution_count": 26
  },
  {
   "metadata": {
    "ExecuteTime": {
     "end_time": "2025-04-26T23:03:25.740863Z",
     "start_time": "2025-04-26T23:03:24.943888Z"
    }
   },
   "cell_type": "code",
   "source": [
    "user_message=\"What is fat-tailedness?\"\n",
    "message = client.beta.threads.messages.create(\n",
    "    thread_id=thread.id,\n",
    "    role=\"user\",\n",
    "    content=user_message\n",
    ")"
   ],
   "id": "d43d3451f1354f0e",
   "outputs": [],
   "execution_count": 27
  },
  {
   "metadata": {
    "ExecuteTime": {
     "end_time": "2025-04-26T23:04:47.424312Z",
     "start_time": "2025-04-26T23:04:39.746459Z"
    }
   },
   "cell_type": "code",
   "source": [
    "#send message to assistant\n",
    "run=client.beta.threads.runs.create(\n",
    "    thread_id=thread.id,\n",
    "    assistant_id=assistant.id,\n",
    ")\n",
    "run=wait_for_api_assistant(thread, run)\n"
   ],
   "id": "3892574043af7e94",
   "outputs": [
    {
     "name": "stdout",
     "output_type": "stream",
     "text": [
      "Elapsed time: 3.2659754753112793 seconds\n"
     ]
    }
   ],
   "execution_count": 28
  },
  {
   "metadata": {
    "ExecuteTime": {
     "end_time": "2025-04-26T23:05:03.532936Z",
     "start_time": "2025-04-26T23:05:03.107345Z"
    }
   },
   "cell_type": "code",
   "source": [
    "messages=client.beta.threads.messages.list(\n",
    "    thread_id=thread.id\n",
    ")"
   ],
   "id": "6694f6b9c4ca8947",
   "outputs": [],
   "execution_count": 29
  },
  {
   "metadata": {
    "ExecuteTime": {
     "end_time": "2025-04-26T23:05:19.343476Z",
     "start_time": "2025-04-26T23:05:19.338363Z"
    }
   },
   "cell_type": "code",
   "source": [
    "for msg in messages.data:\n",
    "    print(f\"{msg.role}:\")\n",
    "    print(f\"{msg.content[0].text.value}\")\n",
    "    print(\"-\" * 30)"
   ],
   "id": "d7c4c66e818144b1",
   "outputs": [
    {
     "name": "stdout",
     "output_type": "stream",
     "text": [
      "assistant:\n",
      "Fat-tailedness refers to the phenomenon in probability distributions where the tails (the extreme values) are heavier than in a normal distribution. This means there's a higher likelihood of extreme events occurring, which has significant implications in fields like finance, economics, and risk management. In fat-tailed distributions, these rare events can have a substantial impact, unlike in the normal distribution where such occurrences are less likely. If you need further details, feel free to ask! –ArielGPT\n",
      "------------------------------\n",
      "user:\n",
      "What is fat-tailedness?\n",
      "------------------------------\n"
     ]
    }
   ],
   "execution_count": 30
  },
  {
   "metadata": {
    "ExecuteTime": {
     "end_time": "2025-04-26T23:06:14.442044Z",
     "start_time": "2025-04-26T23:06:11.053790Z"
    }
   },
   "cell_type": "code",
   "source": "client.beta.assistants.delete(assistant_id=assistant.id)",
   "id": "2863876fd046f170",
   "outputs": [
    {
     "data": {
      "text/plain": [
       "AssistantDeleted(id='asst_PJERFhQ9DJ3G9vH234JJCXlb', deleted=True, object='assistant.deleted')"
      ]
     },
     "execution_count": 31,
     "metadata": {},
     "output_type": "execute_result"
    }
   ],
   "execution_count": 31
  },
  {
   "metadata": {},
   "cell_type": "markdown",
   "source": "## RAG",
   "id": "e6dc206f072816ab"
  },
  {
   "metadata": {
    "ExecuteTime": {
     "end_time": "2025-04-26T23:10:26.785780Z",
     "start_time": "2025-04-26T23:10:25.620447Z"
    }
   },
   "cell_type": "code",
   "source": [
    "# add docs for retrieval\n",
    "file=client.files.create(\n",
    "    file=open(\"articles/4 Ways to Quantify Fat Tails with Python _ by Ariel Talebi _ Towards Data Science.pdf\",\"rb\"),\n",
    "    purpose=\"assistants\"\n",
    ")"
   ],
   "id": "a6c5e9732fa6223d",
   "outputs": [],
   "execution_count": 33
  },
  {
   "metadata": {
    "ExecuteTime": {
     "end_time": "2025-04-26T23:29:21.981659Z",
     "start_time": "2025-04-26T23:29:21.366292Z"
    }
   },
   "cell_type": "code",
   "source": [
    "assistant=client.beta.assistants.create(\n",
    "     model=\"gpt-4o-mini\",\n",
    "    description=\"Data Scientist GPT for Youtube comments\",\n",
    "    instructions=intstructions_string_few_shot,\n",
    "    name=\"ArielGPT\",\n",
    "    tools=[{\"type\":\"file_search\"}]\n",
    ")"
   ],
   "id": "e9b64e6c3fb4d82c",
   "outputs": [],
   "execution_count": 35
  },
  {
   "metadata": {
    "ExecuteTime": {
     "end_time": "2025-04-26T23:29:31.615763Z",
     "start_time": "2025-04-26T23:29:31.025763Z"
    }
   },
   "cell_type": "code",
   "source": "thread=client.beta.threads.create()",
   "id": "2dac51caece1e4ca",
   "outputs": [],
   "execution_count": 36
  },
  {
   "metadata": {
    "ExecuteTime": {
     "end_time": "2025-04-26T23:35:19.004358Z",
     "start_time": "2025-04-26T23:35:15.472013Z"
    }
   },
   "cell_type": "code",
   "source": [
    "user_message=\"What is fat-tailedness?\"\n",
    "message = client.beta.threads.messages.create(\n",
    "    thread_id=thread.id,\n",
    "    role=\"user\",\n",
    "    content=user_message,\n",
    "    attachments=[{\"file_id\":file.id, \"tools\":[{\"type\":\"file_search\"}]}]\n",
    ")"
   ],
   "id": "675b3ae7f48d7ea8",
   "outputs": [],
   "execution_count": 38
  },
  {
   "metadata": {
    "ExecuteTime": {
     "end_time": "2025-04-26T23:35:31.491960Z",
     "start_time": "2025-04-26T23:35:30.402591Z"
    }
   },
   "cell_type": "code",
   "source": [
    "run=client.beta.threads.runs.create(\n",
    "    thread_id=thread.id,\n",
    "    assistant_id=assistant.id\n",
    ")"
   ],
   "id": "4dfdd7233740532e",
   "outputs": [],
   "execution_count": 39
  },
  {
   "metadata": {
    "ExecuteTime": {
     "end_time": "2025-04-26T23:35:39.581882Z",
     "start_time": "2025-04-26T23:35:38.335131Z"
    }
   },
   "cell_type": "code",
   "source": "run=wait_for_api_assistant(thread, run)",
   "id": "dd8823cce71581a5",
   "outputs": [
    {
     "name": "stdout",
     "output_type": "stream",
     "text": [
      "Elapsed time: 1.2393922805786133 seconds\n"
     ]
    }
   ],
   "execution_count": 40
  },
  {
   "metadata": {
    "ExecuteTime": {
     "end_time": "2025-04-26T23:35:56.784626Z",
     "start_time": "2025-04-26T23:35:56.368219Z"
    }
   },
   "cell_type": "code",
   "source": [
    "messages=client.beta.threads.messages.list(\n",
    "    thread_id=thread.id\n",
    ")"
   ],
   "id": "176f57ae60ace340",
   "outputs": [],
   "execution_count": 41
  },
  {
   "metadata": {
    "ExecuteTime": {
     "end_time": "2025-04-26T23:36:08.628034Z",
     "start_time": "2025-04-26T23:36:08.624657Z"
    }
   },
   "cell_type": "code",
   "source": [
    "for msg in messages.data:\n",
    "    print(f\"{msg.role}:\")\n",
    "    print(f\"{msg.content[0].text.value}\")\n",
    "    print(\"-\" * 30)"
   ],
   "id": "d7e8b0a73fae370",
   "outputs": [
    {
     "name": "stdout",
     "output_type": "stream",
     "text": [
      "assistant:\n",
      "Fat-tailedness refers to a statistical phenomenon where the tails of a probability distribution are heavier than those of a normal distribution. This means that there is a higher probability of extreme events occurring compared to distributions with lighter tails, like the normal distribution. Fat-tailed distributions, such as Cauchy or Pareto, are important in fields like finance and risk management, as they can model rare but impactful events effectively. \n",
      "\n",
      "–ArielGPT\n",
      "------------------------------\n",
      "user:\n",
      "What is fat-tailedness?\n",
      "------------------------------\n"
     ]
    }
   ],
   "execution_count": 42
  },
  {
   "metadata": {
    "ExecuteTime": {
     "end_time": "2025-04-26T23:37:14.726072Z",
     "start_time": "2025-04-26T23:37:13.293257Z"
    }
   },
   "cell_type": "code",
   "source": [
    "message = client.beta.threads.messages.create(\n",
    "    thread_id=thread.id,\n",
    "    role=\"user\",\n",
    "    content=\"Analyze this PDF for key ideas\",\n",
    "    attachments=[{\"file_id\": file.id, \"tools\": [{\"type\": \"file_search\"}]}]\n",
    ")\n",
    "\n"
   ],
   "id": "d329bc53d7a24fc3",
   "outputs": [],
   "execution_count": 43
  },
  {
   "metadata": {
    "ExecuteTime": {
     "end_time": "2025-04-26T23:37:29.465658Z",
     "start_time": "2025-04-26T23:37:28.283588Z"
    }
   },
   "cell_type": "code",
   "source": [
    "run=client.beta.threads.runs.create(\n",
    "    thread_id=thread.id,\n",
    "    assistant_id=assistant.id\n",
    ")"
   ],
   "id": "5c80038bddfa9410",
   "outputs": [],
   "execution_count": 44
  },
  {
   "metadata": {
    "ExecuteTime": {
     "end_time": "2025-04-26T23:37:42.606050Z",
     "start_time": "2025-04-26T23:37:41.685961Z"
    }
   },
   "cell_type": "code",
   "source": "run=wait_for_api_assistant(thread, run)",
   "id": "5af16b06879638c",
   "outputs": [
    {
     "name": "stdout",
     "output_type": "stream",
     "text": [
      "Elapsed time: 0.9146268367767334 seconds\n"
     ]
    }
   ],
   "execution_count": 45
  },
  {
   "metadata": {
    "ExecuteTime": {
     "end_time": "2025-04-26T23:38:10.143539Z",
     "start_time": "2025-04-26T23:38:09.901416Z"
    }
   },
   "cell_type": "code",
   "source": [
    "messages=client.beta.threads.messages.list(\n",
    "    thread_id=thread.id\n",
    ")"
   ],
   "id": "55ef3ab4c8c23863",
   "outputs": [],
   "execution_count": 47
  },
  {
   "metadata": {
    "ExecuteTime": {
     "end_time": "2025-04-26T23:38:11.022630Z",
     "start_time": "2025-04-26T23:38:11.017660Z"
    }
   },
   "cell_type": "code",
   "source": [
    "for msg in messages.data:\n",
    "    print(f\"{msg.role}:\")\n",
    "    print(f\"{msg.content[0].text.value}\")\n",
    "    print(\"-\" * 30)"
   ],
   "id": "e0d45b90c2ac4f2f",
   "outputs": [
    {
     "name": "stdout",
     "output_type": "stream",
     "text": [
      "assistant:\n",
      "The PDF discusses four ways to quantify fat-tailedness in data:\n",
      "\n",
      "1. **Power Law Tail Index**: Smaller values indicate fatter tails.\n",
      "2. **Kurtosis**: Measures non-Gaussianity; higher kurtosis indicates fatter tails.\n",
      "3. **Log-normal’s σ**: Larger σ values correlate with fatter tails.\n",
      "4. **Taleb’s κ**: A non-distribution-specific metric that ranges from 0 (thin-tailed) to 1 (fat-tailed)【6:1†source】【6:4†source】【6:10†source】.\n",
      "\n",
      "These heuristics offer quantitative methods to compare fat-tailedness across different datasets. \n",
      "\n",
      "–ArielGPT\n",
      "------------------------------\n",
      "user:\n",
      "Analyze this PDF for key ideas\n",
      "------------------------------\n",
      "assistant:\n",
      "Fat-tailedness refers to a statistical phenomenon where the tails of a probability distribution are heavier than those of a normal distribution. This means that there is a higher probability of extreme events occurring compared to distributions with lighter tails, like the normal distribution. Fat-tailed distributions, such as Cauchy or Pareto, are important in fields like finance and risk management, as they can model rare but impactful events effectively. \n",
      "\n",
      "–ArielGPT\n",
      "------------------------------\n",
      "user:\n",
      "What is fat-tailedness?\n",
      "------------------------------\n"
     ]
    }
   ],
   "execution_count": 48
  },
  {
   "metadata": {},
   "cell_type": "code",
   "outputs": [],
   "execution_count": null,
   "source": "",
   "id": "6b6c2724a4f205f0"
  }
 ],
 "metadata": {
  "kernelspec": {
   "display_name": "Python 3",
   "language": "python",
   "name": "python3"
  },
  "language_info": {
   "codemirror_mode": {
    "name": "ipython",
    "version": 2
   },
   "file_extension": ".py",
   "mimetype": "text/x-python",
   "name": "python",
   "nbconvert_exporter": "python",
   "pygments_lexer": "ipython2",
   "version": "2.7.6"
  }
 },
 "nbformat": 4,
 "nbformat_minor": 5
}
